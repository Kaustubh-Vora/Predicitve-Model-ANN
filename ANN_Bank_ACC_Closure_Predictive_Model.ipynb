{
  "nbformat": 4,
  "nbformat_minor": 0,
  "metadata": {
    "colab": {
      "provenance": []
    },
    "kernelspec": {
      "name": "python3",
      "display_name": "Python 3"
    },
    "language_info": {
      "name": "python"
    }
  },
  "cells": [
    {
      "cell_type": "markdown",
      "source": [
        "# Importing Libraries"
      ],
      "metadata": {
        "id": "tfvp2Cf_8tvH"
      }
    },
    {
      "cell_type": "code",
      "source": [
        "# Importing the libraries\n",
        "import numpy as np\n",
        "import matplotlib.pyplot as plt\n",
        "import pandas as pd"
      ],
      "metadata": {
        "id": "CvV_nDk_8s9Y"
      },
      "execution_count": 15,
      "outputs": []
    },
    {
      "cell_type": "markdown",
      "source": [
        "# Importing Dataset"
      ],
      "metadata": {
        "id": "vGJORHmN82n6"
      }
    },
    {
      "cell_type": "code",
      "source": [
        "# Importing the dataset\n",
        "dataset = pd.read_csv('Bank_Predictions.csv')\n",
        "X = dataset.iloc[:, 3:13].values\n",
        "y = dataset.iloc[:, 13].values\n",
        "column_to_add = dataset['Customer_ID'].values.reshape(-1, 1)\n",
        "X = np.hstack((X, column_to_add))\n",
        "X"
      ],
      "metadata": {
        "colab": {
          "base_uri": "https://localhost:8080/"
        },
        "id": "eDJM10PQ8zq4",
        "outputId": "a0ffab42-b4c9-43a3-d4e2-0fb2fd665b99"
      },
      "execution_count": 16,
      "outputs": [
        {
          "output_type": "execute_result",
          "data": {
            "text/plain": [
              "array([[619, 'France', 'Female', ..., 1, 101348.88, 15634602],\n",
              "       [608, 'Spain', 'Female', ..., 1, 112542.58, 15647311],\n",
              "       [502, 'France', 'Female', ..., 0, 113931.57, 15619304],\n",
              "       ...,\n",
              "       [709, 'France', 'Female', ..., 1, 42085.58, 15584532],\n",
              "       [772, 'Germany', 'Male', ..., 0, 92888.52, 15682355],\n",
              "       [792, 'France', 'Female', ..., 0, 38190.78, 15628319]],\n",
              "      dtype=object)"
            ]
          },
          "metadata": {},
          "execution_count": 16
        }
      ]
    },
    {
      "cell_type": "markdown",
      "source": [
        "# Encoding Dataset"
      ],
      "metadata": {
        "id": "RtyJRaCD9M0n"
      }
    },
    {
      "cell_type": "code",
      "source": [
        "# ------ Part-1: Data preprocessing ----------\n",
        "\n",
        "# Encoding categorical data\n",
        "from sklearn.compose import ColumnTransformer\n",
        "from sklearn.preprocessing import LabelEncoder, OneHotEncoder\n",
        "# Label encoding for gender\n",
        "labelencoder_gender = LabelEncoder()\n",
        "X[:, 2] = labelencoder_gender.fit_transform(X[:, 2])\n",
        "\n",
        "# OneHotEncoding for the country column using ColumnTransformer\n",
        "ct = ColumnTransformer(\n",
        "    [('one_hot_encoder', OneHotEncoder(drop='first'), [1])],  # The column numbers to be transformed (here is column 2)\n",
        "    remainder='passthrough'                                  # Leave the rest of the columns untouched\n",
        ")\n",
        "X = ct.fit_transform(X)\n",
        "X"
      ],
      "metadata": {
        "colab": {
          "base_uri": "https://localhost:8080/"
        },
        "id": "1gst-kXB88la",
        "outputId": "9bdb21c3-4a3e-415c-bd0f-49735e52c5e4"
      },
      "execution_count": 17,
      "outputs": [
        {
          "output_type": "execute_result",
          "data": {
            "text/plain": [
              "array([[0.0, 0.0, 619, ..., 1, 101348.88, 15634602],\n",
              "       [0.0, 1.0, 608, ..., 1, 112542.58, 15647311],\n",
              "       [0.0, 0.0, 502, ..., 0, 113931.57, 15619304],\n",
              "       ...,\n",
              "       [0.0, 0.0, 709, ..., 1, 42085.58, 15584532],\n",
              "       [1.0, 0.0, 772, ..., 0, 92888.52, 15682355],\n",
              "       [0.0, 0.0, 792, ..., 0, 38190.78, 15628319]], dtype=object)"
            ]
          },
          "metadata": {},
          "execution_count": 17
        }
      ]
    },
    {
      "cell_type": "markdown",
      "source": [
        "# Spliting Dataset and Training Set"
      ],
      "metadata": {
        "id": "xJw6BPaV9QwA"
      }
    },
    {
      "cell_type": "code",
      "source": [
        "# Splitting the dataset into the Training set and Test set\n",
        "from sklearn.model_selection import train_test_split\n",
        "X_train, X_test, y_train, y_test = train_test_split(X, y, test_size=0.2, random_state=0)"
      ],
      "metadata": {
        "id": "Ru6t7RRq9BYP"
      },
      "execution_count": 18,
      "outputs": []
    },
    {
      "cell_type": "code",
      "source": [
        "X_test"
      ],
      "metadata": {
        "colab": {
          "base_uri": "https://localhost:8080/"
        },
        "id": "3fEfBfmvowrG",
        "outputId": "f06b0cb9-aa64-4aaa-daf8-39ae03bd8b29"
      },
      "execution_count": 19,
      "outputs": [
        {
          "output_type": "execute_result",
          "data": {
            "text/plain": [
              "array([[1.0, 0.0, 597, ..., 1, 192852.67, 15615753],\n",
              "       [0.0, 0.0, 523, ..., 0, 128702.1, 15654700],\n",
              "       [0.0, 1.0, 706, ..., 1, 75732.25, 15633877],\n",
              "       ...,\n",
              "       [0.0, 1.0, 578, ..., 0, 141533.19, 15772604],\n",
              "       [1.0, 0.0, 650, ..., 1, 11276.48, 15787699],\n",
              "       [1.0, 0.0, 573, ..., 0, 192950.6, 15579223]], dtype=object)"
            ]
          },
          "metadata": {},
          "execution_count": 19
        }
      ]
    },
    {
      "cell_type": "code",
      "source": [
        "customer_id = X_test[:, -1].reshape(-1, 1)\n",
        "X_test = X_test[:, :-1]\n",
        "X_train = X_train[:, :-1]\n",
        "customer_id"
      ],
      "metadata": {
        "colab": {
          "base_uri": "https://localhost:8080/"
        },
        "id": "G7S-MQZL4Kz5",
        "outputId": "89a0d7f4-1a55-4486-8c6b-ada319d096cc"
      },
      "execution_count": 20,
      "outputs": [
        {
          "output_type": "execute_result",
          "data": {
            "text/plain": [
              "array([[15615753],\n",
              "       [15654700],\n",
              "       [15633877],\n",
              "       ...,\n",
              "       [15772604],\n",
              "       [15787699],\n",
              "       [15579223]], dtype=object)"
            ]
          },
          "metadata": {},
          "execution_count": 20
        }
      ]
    },
    {
      "cell_type": "code",
      "source": [
        "X_test"
      ],
      "metadata": {
        "colab": {
          "base_uri": "https://localhost:8080/"
        },
        "id": "9Eudft5i5130",
        "outputId": "0903eae6-6e50-47c9-f5b7-d1b90655c96d"
      },
      "execution_count": 21,
      "outputs": [
        {
          "output_type": "execute_result",
          "data": {
            "text/plain": [
              "array([[1.0, 0.0, 597, ..., 1, 1, 192852.67],\n",
              "       [0.0, 0.0, 523, ..., 1, 0, 128702.1],\n",
              "       [0.0, 1.0, 706, ..., 1, 1, 75732.25],\n",
              "       ...,\n",
              "       [0.0, 1.0, 578, ..., 1, 0, 141533.19],\n",
              "       [1.0, 0.0, 650, ..., 1, 1, 11276.48],\n",
              "       [1.0, 0.0, 573, ..., 1, 0, 192950.6]], dtype=object)"
            ]
          },
          "metadata": {},
          "execution_count": 21
        }
      ]
    },
    {
      "cell_type": "code",
      "source": [
        "X_train"
      ],
      "metadata": {
        "colab": {
          "base_uri": "https://localhost:8080/"
        },
        "id": "Cp9-bppJ59MT",
        "outputId": "6214c058-5546-4a0e-d42a-d1c4638c8e53"
      },
      "execution_count": 22,
      "outputs": [
        {
          "output_type": "execute_result",
          "data": {
            "text/plain": [
              "array([[0.0, 1.0, 667, ..., 1, 0, 163830.64],\n",
              "       [1.0, 0.0, 427, ..., 1, 1, 57098.0],\n",
              "       [0.0, 0.0, 535, ..., 1, 0, 185630.76],\n",
              "       ...,\n",
              "       [0.0, 0.0, 738, ..., 1, 0, 181429.87],\n",
              "       [0.0, 1.0, 590, ..., 1, 1, 148750.16],\n",
              "       [1.0, 0.0, 623, ..., 1, 0, 118855.26]], dtype=object)"
            ]
          },
          "metadata": {},
          "execution_count": 22
        }
      ]
    },
    {
      "cell_type": "markdown",
      "source": [
        "# Feature Scaling"
      ],
      "metadata": {
        "id": "jwMPJ60F9VfC"
      }
    },
    {
      "cell_type": "code",
      "source": [
        "# Feature Scaling\n",
        "from sklearn.preprocessing import StandardScaler\n",
        "sc_X = StandardScaler()\n",
        "X_train = sc_X.fit_transform(X_train)\n",
        "X_test = sc_X.transform(X_test)"
      ],
      "metadata": {
        "id": "mCy0kqxQ9ER2"
      },
      "execution_count": 24,
      "outputs": []
    },
    {
      "cell_type": "markdown",
      "source": [
        "# Building ANN Model"
      ],
      "metadata": {
        "id": "6sGdvH3w9Yye"
      }
    },
    {
      "cell_type": "code",
      "execution_count": 25,
      "metadata": {
        "colab": {
          "base_uri": "https://localhost:8080/"
        },
        "id": "DDY08zTr8av-",
        "outputId": "d5ea8468-0292-4c34-c2e4-932ce1508df2"
      },
      "outputs": [
        {
          "output_type": "stream",
          "name": "stdout",
          "text": [
            "Epoch 1/100\n",
            "800/800 [==============================] - 1s 1ms/step - loss: 0.4894 - accuracy: 0.7669\n",
            "Epoch 2/100\n",
            "800/800 [==============================] - 1s 1ms/step - loss: 0.3862 - accuracy: 0.8409\n",
            "Epoch 3/100\n",
            "800/800 [==============================] - 1s 1ms/step - loss: 0.3578 - accuracy: 0.8511\n",
            "Epoch 4/100\n",
            "800/800 [==============================] - 1s 1ms/step - loss: 0.3493 - accuracy: 0.8562\n",
            "Epoch 5/100\n",
            "800/800 [==============================] - 1s 1ms/step - loss: 0.3439 - accuracy: 0.8571\n",
            "Epoch 6/100\n",
            "800/800 [==============================] - 1s 1ms/step - loss: 0.3416 - accuracy: 0.8591\n",
            "Epoch 7/100\n",
            "800/800 [==============================] - 1s 1ms/step - loss: 0.3389 - accuracy: 0.8616\n",
            "Epoch 8/100\n",
            "800/800 [==============================] - 1s 1ms/step - loss: 0.3374 - accuracy: 0.8608\n",
            "Epoch 9/100\n",
            "800/800 [==============================] - 1s 1ms/step - loss: 0.3350 - accuracy: 0.8634\n",
            "Epoch 10/100\n",
            "800/800 [==============================] - 1s 1ms/step - loss: 0.3345 - accuracy: 0.8629\n",
            "Epoch 11/100\n",
            "800/800 [==============================] - 1s 1ms/step - loss: 0.3319 - accuracy: 0.8654\n",
            "Epoch 12/100\n",
            "800/800 [==============================] - 1s 1ms/step - loss: 0.3308 - accuracy: 0.8644\n",
            "Epoch 13/100\n",
            "800/800 [==============================] - 1s 1ms/step - loss: 0.3300 - accuracy: 0.8651\n",
            "Epoch 14/100\n",
            "800/800 [==============================] - 1s 1ms/step - loss: 0.3284 - accuracy: 0.8666\n",
            "Epoch 15/100\n",
            "800/800 [==============================] - 1s 1ms/step - loss: 0.3273 - accuracy: 0.8680\n",
            "Epoch 16/100\n",
            "800/800 [==============================] - 1s 1ms/step - loss: 0.3265 - accuracy: 0.8649\n",
            "Epoch 17/100\n",
            "800/800 [==============================] - 1s 1ms/step - loss: 0.3260 - accuracy: 0.8671\n",
            "Epoch 18/100\n",
            "800/800 [==============================] - 1s 1ms/step - loss: 0.3251 - accuracy: 0.8675\n",
            "Epoch 19/100\n",
            "800/800 [==============================] - 1s 1ms/step - loss: 0.3247 - accuracy: 0.8662\n",
            "Epoch 20/100\n",
            "800/800 [==============================] - 1s 1ms/step - loss: 0.3243 - accuracy: 0.8689\n",
            "Epoch 21/100\n",
            "800/800 [==============================] - 1s 1ms/step - loss: 0.3244 - accuracy: 0.8687\n",
            "Epoch 22/100\n",
            "800/800 [==============================] - 1s 1ms/step - loss: 0.3230 - accuracy: 0.8677\n",
            "Epoch 23/100\n",
            "800/800 [==============================] - 1s 1ms/step - loss: 0.3231 - accuracy: 0.8674\n",
            "Epoch 24/100\n",
            "800/800 [==============================] - 1s 1ms/step - loss: 0.3225 - accuracy: 0.8692\n",
            "Epoch 25/100\n",
            "800/800 [==============================] - 1s 2ms/step - loss: 0.3220 - accuracy: 0.8706\n",
            "Epoch 26/100\n",
            "800/800 [==============================] - 2s 2ms/step - loss: 0.3220 - accuracy: 0.8686\n",
            "Epoch 27/100\n",
            "800/800 [==============================] - 2s 2ms/step - loss: 0.3221 - accuracy: 0.8670\n",
            "Epoch 28/100\n",
            "800/800 [==============================] - 2s 2ms/step - loss: 0.3215 - accuracy: 0.8691\n",
            "Epoch 29/100\n",
            "800/800 [==============================] - 2s 2ms/step - loss: 0.3210 - accuracy: 0.8685\n",
            "Epoch 30/100\n",
            "800/800 [==============================] - 2s 2ms/step - loss: 0.3209 - accuracy: 0.8681\n",
            "Epoch 31/100\n",
            "800/800 [==============================] - 1s 1ms/step - loss: 0.3201 - accuracy: 0.8700\n",
            "Epoch 32/100\n",
            "800/800 [==============================] - 1s 1ms/step - loss: 0.3197 - accuracy: 0.8705\n",
            "Epoch 33/100\n",
            "800/800 [==============================] - 1s 1ms/step - loss: 0.3210 - accuracy: 0.8679\n",
            "Epoch 34/100\n",
            "800/800 [==============================] - 1s 1ms/step - loss: 0.3198 - accuracy: 0.8709\n",
            "Epoch 35/100\n",
            "800/800 [==============================] - 1s 1ms/step - loss: 0.3202 - accuracy: 0.8694\n",
            "Epoch 36/100\n",
            "800/800 [==============================] - 1s 1ms/step - loss: 0.3193 - accuracy: 0.8716\n",
            "Epoch 37/100\n",
            "800/800 [==============================] - 1s 1ms/step - loss: 0.3194 - accuracy: 0.8691\n",
            "Epoch 38/100\n",
            "800/800 [==============================] - 1s 1ms/step - loss: 0.3199 - accuracy: 0.8687\n",
            "Epoch 39/100\n",
            "800/800 [==============================] - 1s 1ms/step - loss: 0.3197 - accuracy: 0.8695\n",
            "Epoch 40/100\n",
            "800/800 [==============================] - 1s 1ms/step - loss: 0.3192 - accuracy: 0.8694\n",
            "Epoch 41/100\n",
            "800/800 [==============================] - 1s 1ms/step - loss: 0.3188 - accuracy: 0.8704\n",
            "Epoch 42/100\n",
            "800/800 [==============================] - 1s 1ms/step - loss: 0.3187 - accuracy: 0.8696\n",
            "Epoch 43/100\n",
            "800/800 [==============================] - 1s 1ms/step - loss: 0.3184 - accuracy: 0.8701\n",
            "Epoch 44/100\n",
            "800/800 [==============================] - 1s 1ms/step - loss: 0.3182 - accuracy: 0.8705\n",
            "Epoch 45/100\n",
            "800/800 [==============================] - 1s 1ms/step - loss: 0.3185 - accuracy: 0.8694\n",
            "Epoch 46/100\n",
            "800/800 [==============================] - 1s 1ms/step - loss: 0.3181 - accuracy: 0.8692\n",
            "Epoch 47/100\n",
            "800/800 [==============================] - 1s 1ms/step - loss: 0.3180 - accuracy: 0.8701\n",
            "Epoch 48/100\n",
            "800/800 [==============================] - 1s 1ms/step - loss: 0.3177 - accuracy: 0.8691\n",
            "Epoch 49/100\n",
            "800/800 [==============================] - 1s 1ms/step - loss: 0.3175 - accuracy: 0.8698\n",
            "Epoch 50/100\n",
            "800/800 [==============================] - 1s 1ms/step - loss: 0.3171 - accuracy: 0.8696\n",
            "Epoch 51/100\n",
            "800/800 [==============================] - 1s 1ms/step - loss: 0.3172 - accuracy: 0.8704\n",
            "Epoch 52/100\n",
            "800/800 [==============================] - 1s 1ms/step - loss: 0.3167 - accuracy: 0.8709\n",
            "Epoch 53/100\n",
            "800/800 [==============================] - 1s 1ms/step - loss: 0.3177 - accuracy: 0.8701\n",
            "Epoch 54/100\n",
            "800/800 [==============================] - 1s 1ms/step - loss: 0.3173 - accuracy: 0.8704\n",
            "Epoch 55/100\n",
            "800/800 [==============================] - 1s 1ms/step - loss: 0.3166 - accuracy: 0.8706\n",
            "Epoch 56/100\n",
            "800/800 [==============================] - 1s 1ms/step - loss: 0.3162 - accuracy: 0.8714\n",
            "Epoch 57/100\n",
            "800/800 [==============================] - 1s 1ms/step - loss: 0.3168 - accuracy: 0.8712\n",
            "Epoch 58/100\n",
            "800/800 [==============================] - 1s 2ms/step - loss: 0.3158 - accuracy: 0.8720\n",
            "Epoch 59/100\n",
            "800/800 [==============================] - 1s 1ms/step - loss: 0.3163 - accuracy: 0.8731\n",
            "Epoch 60/100\n",
            "800/800 [==============================] - 1s 1ms/step - loss: 0.3166 - accuracy: 0.8716\n",
            "Epoch 61/100\n",
            "800/800 [==============================] - 1s 1ms/step - loss: 0.3159 - accuracy: 0.8723\n",
            "Epoch 62/100\n",
            "800/800 [==============================] - 1s 1ms/step - loss: 0.3155 - accuracy: 0.8702\n",
            "Epoch 63/100\n",
            "800/800 [==============================] - 1s 1ms/step - loss: 0.3158 - accuracy: 0.8705\n",
            "Epoch 64/100\n",
            "800/800 [==============================] - 1s 1ms/step - loss: 0.3165 - accuracy: 0.8714\n",
            "Epoch 65/100\n",
            "800/800 [==============================] - 1s 1ms/step - loss: 0.3155 - accuracy: 0.8717\n",
            "Epoch 66/100\n",
            "800/800 [==============================] - 1s 1ms/step - loss: 0.3152 - accuracy: 0.8716\n",
            "Epoch 67/100\n",
            "800/800 [==============================] - 1s 1ms/step - loss: 0.3152 - accuracy: 0.8726\n",
            "Epoch 68/100\n",
            "800/800 [==============================] - 1s 1ms/step - loss: 0.3150 - accuracy: 0.8727\n",
            "Epoch 69/100\n",
            "800/800 [==============================] - 1s 1ms/step - loss: 0.3146 - accuracy: 0.8735\n",
            "Epoch 70/100\n",
            "800/800 [==============================] - 1s 1ms/step - loss: 0.3145 - accuracy: 0.8717\n",
            "Epoch 71/100\n",
            "800/800 [==============================] - 1s 1ms/step - loss: 0.3146 - accuracy: 0.8702\n",
            "Epoch 72/100\n",
            "800/800 [==============================] - 1s 1ms/step - loss: 0.3146 - accuracy: 0.8733\n",
            "Epoch 73/100\n",
            "800/800 [==============================] - 1s 1ms/step - loss: 0.3146 - accuracy: 0.8714\n",
            "Epoch 74/100\n",
            "800/800 [==============================] - 1s 1ms/step - loss: 0.3140 - accuracy: 0.8715\n",
            "Epoch 75/100\n",
            "800/800 [==============================] - 1s 1ms/step - loss: 0.3142 - accuracy: 0.8734\n",
            "Epoch 76/100\n",
            "800/800 [==============================] - 1s 1ms/step - loss: 0.3140 - accuracy: 0.8735\n",
            "Epoch 77/100\n",
            "800/800 [==============================] - 1s 1ms/step - loss: 0.3137 - accuracy: 0.8715\n",
            "Epoch 78/100\n",
            "800/800 [==============================] - 1s 1ms/step - loss: 0.3139 - accuracy: 0.8733\n",
            "Epoch 79/100\n",
            "800/800 [==============================] - 1s 1ms/step - loss: 0.3131 - accuracy: 0.8737\n",
            "Epoch 80/100\n",
            "800/800 [==============================] - 1s 1ms/step - loss: 0.3144 - accuracy: 0.8712\n",
            "Epoch 81/100\n",
            "800/800 [==============================] - 1s 1ms/step - loss: 0.3140 - accuracy: 0.8724\n",
            "Epoch 82/100\n",
            "800/800 [==============================] - 1s 1ms/step - loss: 0.3134 - accuracy: 0.8720\n",
            "Epoch 83/100\n",
            "800/800 [==============================] - 1s 1ms/step - loss: 0.3136 - accuracy: 0.8731\n",
            "Epoch 84/100\n",
            "800/800 [==============================] - 1s 1ms/step - loss: 0.3134 - accuracy: 0.8721\n",
            "Epoch 85/100\n",
            "800/800 [==============================] - 1s 1ms/step - loss: 0.3140 - accuracy: 0.8724\n",
            "Epoch 86/100\n",
            "800/800 [==============================] - 1s 1ms/step - loss: 0.3133 - accuracy: 0.8750\n",
            "Epoch 87/100\n",
            "800/800 [==============================] - 1s 1ms/step - loss: 0.3136 - accuracy: 0.8734\n",
            "Epoch 88/100\n",
            "800/800 [==============================] - 1s 1ms/step - loss: 0.3132 - accuracy: 0.8735\n",
            "Epoch 89/100\n",
            "800/800 [==============================] - 1s 1ms/step - loss: 0.3131 - accuracy: 0.8706\n",
            "Epoch 90/100\n",
            "800/800 [==============================] - 1s 1ms/step - loss: 0.3128 - accuracy: 0.8725\n",
            "Epoch 91/100\n",
            "800/800 [==============================] - 1s 1ms/step - loss: 0.3126 - accuracy: 0.8724\n",
            "Epoch 92/100\n",
            "800/800 [==============================] - 1s 1ms/step - loss: 0.3127 - accuracy: 0.8726\n",
            "Epoch 93/100\n",
            "800/800 [==============================] - 1s 1ms/step - loss: 0.3135 - accuracy: 0.8725\n",
            "Epoch 94/100\n",
            "800/800 [==============================] - 1s 1ms/step - loss: 0.3125 - accuracy: 0.8752\n",
            "Epoch 95/100\n",
            "800/800 [==============================] - 1s 1ms/step - loss: 0.3128 - accuracy: 0.8736\n",
            "Epoch 96/100\n",
            "800/800 [==============================] - 1s 1ms/step - loss: 0.3130 - accuracy: 0.8723\n",
            "Epoch 97/100\n",
            "800/800 [==============================] - 1s 1ms/step - loss: 0.3129 - accuracy: 0.8730\n",
            "Epoch 98/100\n",
            "800/800 [==============================] - 1s 1ms/step - loss: 0.3130 - accuracy: 0.8700\n",
            "Epoch 99/100\n",
            "800/800 [==============================] - 1s 1ms/step - loss: 0.3127 - accuracy: 0.8734\n",
            "Epoch 100/100\n",
            "800/800 [==============================] - 1s 1ms/step - loss: 0.3118 - accuracy: 0.8727\n",
            "63/63 [==============================] - 0s 780us/step\n"
          ]
        }
      ],
      "source": [
        "# ------- Part-2: Build the ANN --------\n",
        "\n",
        "# import keras library and packages\n",
        "import keras\n",
        "from keras.models import Sequential\n",
        "from keras.layers import Dense\n",
        "\n",
        "# Initializing the ANN\n",
        "classifier = Sequential()\n",
        "\n",
        "# You might use the following parameters: activation: 'relu' and/or 'sigmoid', optimization function is 'adam', loss function is 'binary_crossentropy', number of epochs is 100, samples per epoch are 10)\n",
        "\n",
        "# Adding the input layer and the first hidden layer\n",
        "classifier.add(Dense(units=20, activation='relu', input_dim=X_train.shape[1]))  # input_dim should be number of features in X_train\n",
        "\n",
        "# Adding second hidden layer\n",
        "classifier.add(Dense(units=8, activation='relu'))\n",
        "\n",
        "# Adding the output layer\n",
        "classifier.add(Dense(units=1, activation='sigmoid'))\n",
        "\n",
        "# Compiling the ANN\n",
        "classifier.compile(optimizer='adam', loss='binary_crossentropy', metrics=['accuracy'])\n",
        "\n",
        "# Fitting the ANN to the training set\n",
        "classifier.fit(X_train, y_train, batch_size=10, epochs=100)\n",
        "\n",
        "# Predicting the Test set results\n",
        "y_pred = classifier.predict(X_test)\n",
        "y_pred_bool = (y_pred > 0.5)  # Convert probabilities to binary output\n",
        "\n",
        "# Replace True and False with the required statements\n",
        "y_pred_statements = np.where(y_pred_bool, \"Account is closed\", \"Account is not closed\")\n",
        "\n",
        "# Making the confusion Matrix\n",
        "from sklearn.metrics import confusion_matrix\n",
        "cm = confusion_matrix(y_test, y_pred_bool)\n",
        "\n"
      ]
    },
    {
      "cell_type": "code",
      "source": [
        "for customer, prediction in zip(customer_id, y_pred_statements):\n",
        "        if prediction == \"Account is closed\":\n",
        "          print(f\"Customer_ID: {customer[0]}, Status: {prediction}\")"
      ],
      "metadata": {
        "colab": {
          "base_uri": "https://localhost:8080/"
        },
        "id": "n1GiEmjcROtE",
        "outputId": "b5dc8f97-0194-474c-939c-368104f12a36"
      },
      "execution_count": 26,
      "outputs": [
        {
          "output_type": "stream",
          "name": "stdout",
          "text": [
            "Customer_ID: 15804142, Status: ['Account is closed']\n",
            "Customer_ID: 15588944, Status: ['Account is closed']\n",
            "Customer_ID: 15703541, Status: ['Account is closed']\n",
            "Customer_ID: 15573452, Status: ['Account is closed']\n",
            "Customer_ID: 15721207, Status: ['Account is closed']\n",
            "Customer_ID: 15723318, Status: ['Account is closed']\n",
            "Customer_ID: 15724858, Status: ['Account is closed']\n",
            "Customer_ID: 15716164, Status: ['Account is closed']\n",
            "Customer_ID: 15684868, Status: ['Account is closed']\n",
            "Customer_ID: 15673995, Status: ['Account is closed']\n",
            "Customer_ID: 15592751, Status: ['Account is closed']\n",
            "Customer_ID: 15672012, Status: ['Account is closed']\n",
            "Customer_ID: 15761554, Status: ['Account is closed']\n",
            "Customer_ID: 15637476, Status: ['Account is closed']\n",
            "Customer_ID: 15610900, Status: ['Account is closed']\n",
            "Customer_ID: 15813168, Status: ['Account is closed']\n",
            "Customer_ID: 15593782, Status: ['Account is closed']\n",
            "Customer_ID: 15727197, Status: ['Account is closed']\n",
            "Customer_ID: 15716381, Status: ['Account is closed']\n",
            "Customer_ID: 15791867, Status: ['Account is closed']\n",
            "Customer_ID: 15782736, Status: ['Account is closed']\n",
            "Customer_ID: 15587233, Status: ['Account is closed']\n",
            "Customer_ID: 15797767, Status: ['Account is closed']\n",
            "Customer_ID: 15590201, Status: ['Account is closed']\n",
            "Customer_ID: 15623989, Status: ['Account is closed']\n",
            "Customer_ID: 15799966, Status: ['Account is closed']\n",
            "Customer_ID: 15673971, Status: ['Account is closed']\n",
            "Customer_ID: 15804797, Status: ['Account is closed']\n",
            "Customer_ID: 15792228, Status: ['Account is closed']\n",
            "Customer_ID: 15778154, Status: ['Account is closed']\n",
            "Customer_ID: 15815271, Status: ['Account is closed']\n",
            "Customer_ID: 15577274, Status: ['Account is closed']\n",
            "Customer_ID: 15758023, Status: ['Account is closed']\n",
            "Customer_ID: 15672594, Status: ['Account is closed']\n",
            "Customer_ID: 15610643, Status: ['Account is closed']\n",
            "Customer_ID: 15651052, Status: ['Account is closed']\n",
            "Customer_ID: 15569079, Status: ['Account is closed']\n",
            "Customer_ID: 15781553, Status: ['Account is closed']\n",
            "Customer_ID: 15771728, Status: ['Account is closed']\n",
            "Customer_ID: 15580845, Status: ['Account is closed']\n",
            "Customer_ID: 15706537, Status: ['Account is closed']\n",
            "Customer_ID: 15774358, Status: ['Account is closed']\n",
            "Customer_ID: 15775318, Status: ['Account is closed']\n",
            "Customer_ID: 15809320, Status: ['Account is closed']\n",
            "Customer_ID: 15668889, Status: ['Account is closed']\n",
            "Customer_ID: 15605826, Status: ['Account is closed']\n",
            "Customer_ID: 15789611, Status: ['Account is closed']\n",
            "Customer_ID: 15757408, Status: ['Account is closed']\n",
            "Customer_ID: 15608528, Status: ['Account is closed']\n",
            "Customer_ID: 15577771, Status: ['Account is closed']\n",
            "Customer_ID: 15651883, Status: ['Account is closed']\n",
            "Customer_ID: 15570289, Status: ['Account is closed']\n",
            "Customer_ID: 15688071, Status: ['Account is closed']\n",
            "Customer_ID: 15653849, Status: ['Account is closed']\n",
            "Customer_ID: 15602929, Status: ['Account is closed']\n",
            "Customer_ID: 15598982, Status: ['Account is closed']\n",
            "Customer_ID: 15620111, Status: ['Account is closed']\n",
            "Customer_ID: 15650538, Status: ['Account is closed']\n",
            "Customer_ID: 15777553, Status: ['Account is closed']\n",
            "Customer_ID: 15724838, Status: ['Account is closed']\n",
            "Customer_ID: 15661473, Status: ['Account is closed']\n",
            "Customer_ID: 15728963, Status: ['Account is closed']\n",
            "Customer_ID: 15613189, Status: ['Account is closed']\n",
            "Customer_ID: 15600110, Status: ['Account is closed']\n",
            "Customer_ID: 15792064, Status: ['Account is closed']\n",
            "Customer_ID: 15713774, Status: ['Account is closed']\n",
            "Customer_ID: 15637599, Status: ['Account is closed']\n",
            "Customer_ID: 15756751, Status: ['Account is closed']\n",
            "Customer_ID: 15678916, Status: ['Account is closed']\n",
            "Customer_ID: 15642530, Status: ['Account is closed']\n",
            "Customer_ID: 15814846, Status: ['Account is closed']\n",
            "Customer_ID: 15684960, Status: ['Account is closed']\n",
            "Customer_ID: 15771000, Status: ['Account is closed']\n",
            "Customer_ID: 15731555, Status: ['Account is closed']\n",
            "Customer_ID: 15647292, Status: ['Account is closed']\n",
            "Customer_ID: 15579647, Status: ['Account is closed']\n",
            "Customer_ID: 15639117, Status: ['Account is closed']\n",
            "Customer_ID: 15583073, Status: ['Account is closed']\n",
            "Customer_ID: 15719508, Status: ['Account is closed']\n",
            "Customer_ID: 15594391, Status: ['Account is closed']\n",
            "Customer_ID: 15654562, Status: ['Account is closed']\n",
            "Customer_ID: 15794360, Status: ['Account is closed']\n",
            "Customer_ID: 15795124, Status: ['Account is closed']\n",
            "Customer_ID: 15603851, Status: ['Account is closed']\n",
            "Customer_ID: 15635435, Status: ['Account is closed']\n",
            "Customer_ID: 15658716, Status: ['Account is closed']\n",
            "Customer_ID: 15598086, Status: ['Account is closed']\n",
            "Customer_ID: 15689886, Status: ['Account is closed']\n",
            "Customer_ID: 15757306, Status: ['Account is closed']\n",
            "Customer_ID: 15592412, Status: ['Account is closed']\n",
            "Customer_ID: 15671591, Status: ['Account is closed']\n",
            "Customer_ID: 15583353, Status: ['Account is closed']\n",
            "Customer_ID: 15637891, Status: ['Account is closed']\n",
            "Customer_ID: 15790113, Status: ['Account is closed']\n",
            "Customer_ID: 15568162, Status: ['Account is closed']\n",
            "Customer_ID: 15771942, Status: ['Account is closed']\n",
            "Customer_ID: 15640580, Status: ['Account is closed']\n",
            "Customer_ID: 15611331, Status: ['Account is closed']\n",
            "Customer_ID: 15775625, Status: ['Account is closed']\n",
            "Customer_ID: 15657284, Status: ['Account is closed']\n",
            "Customer_ID: 15721569, Status: ['Account is closed']\n",
            "Customer_ID: 15711299, Status: ['Account is closed']\n",
            "Customer_ID: 15643908, Status: ['Account is closed']\n",
            "Customer_ID: 15812920, Status: ['Account is closed']\n",
            "Customer_ID: 15592937, Status: ['Account is closed']\n",
            "Customer_ID: 15800793, Status: ['Account is closed']\n",
            "Customer_ID: 15786196, Status: ['Account is closed']\n",
            "Customer_ID: 15754577, Status: ['Account is closed']\n",
            "Customer_ID: 15713144, Status: ['Account is closed']\n",
            "Customer_ID: 15711028, Status: ['Account is closed']\n",
            "Customer_ID: 15717984, Status: ['Account is closed']\n",
            "Customer_ID: 15755330, Status: ['Account is closed']\n",
            "Customer_ID: 15572762, Status: ['Account is closed']\n",
            "Customer_ID: 15633213, Status: ['Account is closed']\n",
            "Customer_ID: 15654577, Status: ['Account is closed']\n",
            "Customer_ID: 15634974, Status: ['Account is closed']\n",
            "Customer_ID: 15732917, Status: ['Account is closed']\n",
            "Customer_ID: 15812230, Status: ['Account is closed']\n",
            "Customer_ID: 15736760, Status: ['Account is closed']\n",
            "Customer_ID: 15693764, Status: ['Account is closed']\n",
            "Customer_ID: 15689341, Status: ['Account is closed']\n",
            "Customer_ID: 15671137, Status: ['Account is closed']\n",
            "Customer_ID: 15787255, Status: ['Account is closed']\n",
            "Customer_ID: 15641319, Status: ['Account is closed']\n",
            "Customer_ID: 15701687, Status: ['Account is closed']\n",
            "Customer_ID: 15739592, Status: ['Account is closed']\n",
            "Customer_ID: 15724161, Status: ['Account is closed']\n",
            "Customer_ID: 15624510, Status: ['Account is closed']\n",
            "Customer_ID: 15750778, Status: ['Account is closed']\n",
            "Customer_ID: 15648075, Status: ['Account is closed']\n",
            "Customer_ID: 15608541, Status: ['Account is closed']\n",
            "Customer_ID: 15568819, Status: ['Account is closed']\n",
            "Customer_ID: 15632051, Status: ['Account is closed']\n",
            "Customer_ID: 15654025, Status: ['Account is closed']\n",
            "Customer_ID: 15570379, Status: ['Account is closed']\n",
            "Customer_ID: 15714227, Status: ['Account is closed']\n",
            "Customer_ID: 15791944, Status: ['Account is closed']\n",
            "Customer_ID: 15635364, Status: ['Account is closed']\n",
            "Customer_ID: 15661507, Status: ['Account is closed']\n",
            "Customer_ID: 15578045, Status: ['Account is closed']\n",
            "Customer_ID: 15677105, Status: ['Account is closed']\n",
            "Customer_ID: 15800583, Status: ['Account is closed']\n",
            "Customer_ID: 15806318, Status: ['Account is closed']\n",
            "Customer_ID: 15712551, Status: ['Account is closed']\n",
            "Customer_ID: 15577831, Status: ['Account is closed']\n",
            "Customer_ID: 15814405, Status: ['Account is closed']\n",
            "Customer_ID: 15705343, Status: ['Account is closed']\n",
            "Customer_ID: 15691785, Status: ['Account is closed']\n",
            "Customer_ID: 15785367, Status: ['Account is closed']\n",
            "Customer_ID: 15627203, Status: ['Account is closed']\n",
            "Customer_ID: 15601659, Status: ['Account is closed']\n",
            "Customer_ID: 15810723, Status: ['Account is closed']\n",
            "Customer_ID: 15566253, Status: ['Account is closed']\n",
            "Customer_ID: 15668283, Status: ['Account is closed']\n",
            "Customer_ID: 15694556, Status: ['Account is closed']\n",
            "Customer_ID: 15619653, Status: ['Account is closed']\n",
            "Customer_ID: 15719991, Status: ['Account is closed']\n",
            "Customer_ID: 15772781, Status: ['Account is closed']\n",
            "Customer_ID: 15708534, Status: ['Account is closed']\n",
            "Customer_ID: 15577515, Status: ['Account is closed']\n",
            "Customer_ID: 15686099, Status: ['Account is closed']\n",
            "Customer_ID: 15664001, Status: ['Account is closed']\n",
            "Customer_ID: 15716609, Status: ['Account is closed']\n",
            "Customer_ID: 15645847, Status: ['Account is closed']\n",
            "Customer_ID: 15799626, Status: ['Account is closed']\n",
            "Customer_ID: 15595609, Status: ['Account is closed']\n",
            "Customer_ID: 15583392, Status: ['Account is closed']\n",
            "Customer_ID: 15737605, Status: ['Account is closed']\n",
            "Customer_ID: 15747208, Status: ['Account is closed']\n",
            "Customer_ID: 15724321, Status: ['Account is closed']\n",
            "Customer_ID: 15775192, Status: ['Account is closed']\n",
            "Customer_ID: 15625761, Status: ['Account is closed']\n",
            "Customer_ID: 15626008, Status: ['Account is closed']\n",
            "Customer_ID: 15565796, Status: ['Account is closed']\n",
            "Customer_ID: 15701160, Status: ['Account is closed']\n",
            "Customer_ID: 15632816, Status: ['Account is closed']\n",
            "Customer_ID: 15657637, Status: ['Account is closed']\n",
            "Customer_ID: 15748660, Status: ['Account is closed']\n",
            "Customer_ID: 15622527, Status: ['Account is closed']\n",
            "Customer_ID: 15569641, Status: ['Account is closed']\n",
            "Customer_ID: 15680895, Status: ['Account is closed']\n",
            "Customer_ID: 15727811, Status: ['Account is closed']\n",
            "Customer_ID: 15744240, Status: ['Account is closed']\n",
            "Customer_ID: 15750731, Status: ['Account is closed']\n",
            "Customer_ID: 15646366, Status: ['Account is closed']\n",
            "Customer_ID: 15784958, Status: ['Account is closed']\n",
            "Customer_ID: 15568032, Status: ['Account is closed']\n",
            "Customer_ID: 15628600, Status: ['Account is closed']\n",
            "Customer_ID: 15579706, Status: ['Account is closed']\n",
            "Customer_ID: 15776939, Status: ['Account is closed']\n",
            "Customer_ID: 15661821, Status: ['Account is closed']\n",
            "Customer_ID: 15764866, Status: ['Account is closed']\n",
            "Customer_ID: 15797960, Status: ['Account is closed']\n",
            "Customer_ID: 15694376, Status: ['Account is closed']\n",
            "Customer_ID: 15631310, Status: ['Account is closed']\n",
            "Customer_ID: 15692142, Status: ['Account is closed']\n",
            "Customer_ID: 15674551, Status: ['Account is closed']\n",
            "Customer_ID: 15691906, Status: ['Account is closed']\n",
            "Customer_ID: 15583212, Status: ['Account is closed']\n",
            "Customer_ID: 15766776, Status: ['Account is closed']\n",
            "Customer_ID: 15660524, Status: ['Account is closed']\n",
            "Customer_ID: 15792868, Status: ['Account is closed']\n",
            "Customer_ID: 15764170, Status: ['Account is closed']\n",
            "Customer_ID: 15571415, Status: ['Account is closed']\n",
            "Customer_ID: 15707674, Status: ['Account is closed']\n",
            "Customer_ID: 15569759, Status: ['Account is closed']\n",
            "Customer_ID: 15721426, Status: ['Account is closed']\n",
            "Customer_ID: 15713483, Status: ['Account is closed']\n",
            "Customer_ID: 15692577, Status: ['Account is closed']\n",
            "Customer_ID: 15664270, Status: ['Account is closed']\n",
            "Customer_ID: 15743236, Status: ['Account is closed']\n",
            "Customer_ID: 15689294, Status: ['Account is closed']\n",
            "Customer_ID: 15664793, Status: ['Account is closed']\n",
            "Customer_ID: 15566660, Status: ['Account is closed']\n",
            "Customer_ID: 15648681, Status: ['Account is closed']\n",
            "Customer_ID: 15812616, Status: ['Account is closed']\n",
            "Customer_ID: 15654456, Status: ['Account is closed']\n",
            "Customer_ID: 15771569, Status: ['Account is closed']\n",
            "Customer_ID: 15698716, Status: ['Account is closed']\n",
            "Customer_ID: 15795759, Status: ['Account is closed']\n",
            "Customer_ID: 15623499, Status: ['Account is closed']\n",
            "Customer_ID: 15663164, Status: ['Account is closed']\n",
            "Customer_ID: 15687153, Status: ['Account is closed']\n",
            "Customer_ID: 15804853, Status: ['Account is closed']\n",
            "Customer_ID: 15627840, Status: ['Account is closed']\n",
            "Customer_ID: 15815316, Status: ['Account is closed']\n",
            "Customer_ID: 15616365, Status: ['Account is closed']\n",
            "Customer_ID: 15625092, Status: ['Account is closed']\n",
            "Customer_ID: 15730287, Status: ['Account is closed']\n",
            "Customer_ID: 15805690, Status: ['Account is closed']\n",
            "Customer_ID: 15778149, Status: ['Account is closed']\n",
            "Customer_ID: 15744044, Status: ['Account is closed']\n",
            "Customer_ID: 15691504, Status: ['Account is closed']\n",
            "Customer_ID: 15720637, Status: ['Account is closed']\n",
            "Customer_ID: 15815490, Status: ['Account is closed']\n",
            "Customer_ID: 15661162, Status: ['Account is closed']\n",
            "Customer_ID: 15624180, Status: ['Account is closed']\n",
            "Customer_ID: 15801265, Status: ['Account is closed']\n",
            "Customer_ID: 15702377, Status: ['Account is closed']\n",
            "Customer_ID: 15806546, Status: ['Account is closed']\n",
            "Customer_ID: 15687765, Status: ['Account is closed']\n",
            "Customer_ID: 15738516, Status: ['Account is closed']\n",
            "Customer_ID: 15747724, Status: ['Account is closed']\n",
            "Customer_ID: 15587535, Status: ['Account is closed']\n",
            "Customer_ID: 15666055, Status: ['Account is closed']\n",
            "Customer_ID: 15751561, Status: ['Account is closed']\n",
            "Customer_ID: 15629677, Status: ['Account is closed']\n",
            "Customer_ID: 15812210, Status: ['Account is closed']\n",
            "Customer_ID: 15588955, Status: ['Account is closed']\n",
            "Customer_ID: 15713975, Status: ['Account is closed']\n",
            "Customer_ID: 15658982, Status: ['Account is closed']\n",
            "Customer_ID: 15742834, Status: ['Account is closed']\n",
            "Customer_ID: 15743498, Status: ['Account is closed']\n",
            "Customer_ID: 15752857, Status: ['Account is closed']\n",
            "Customer_ID: 15620276, Status: ['Account is closed']\n",
            "Customer_ID: 15583456, Status: ['Account is closed']\n",
            "Customer_ID: 15605275, Status: ['Account is closed']\n",
            "Customer_ID: 15679963, Status: ['Account is closed']\n",
            "Customer_ID: 15647570, Status: ['Account is closed']\n",
            "Customer_ID: 15798834, Status: ['Account is closed']\n",
            "Customer_ID: 15738828, Status: ['Account is closed']\n",
            "Customer_ID: 15725794, Status: ['Account is closed']\n",
            "Customer_ID: 15641389, Status: ['Account is closed']\n",
            "Customer_ID: 15756804, Status: ['Account is closed']\n",
            "Customer_ID: 15576196, Status: ['Account is closed']\n",
            "Customer_ID: 15805260, Status: ['Account is closed']\n",
            "Customer_ID: 15612095, Status: ['Account is closed']\n",
            "Customer_ID: 15641994, Status: ['Account is closed']\n",
            "Customer_ID: 15698572, Status: ['Account is closed']\n",
            "Customer_ID: 15773283, Status: ['Account is closed']\n",
            "Customer_ID: 15796764, Status: ['Account is closed']\n",
            "Customer_ID: 15650933, Status: ['Account is closed']\n",
            "Customer_ID: 15646764, Status: ['Account is closed']\n",
            "Customer_ID: 15802593, Status: ['Account is closed']\n",
            "Customer_ID: 15702912, Status: ['Account is closed']\n",
            "Customer_ID: 15657306, Status: ['Account is closed']\n",
            "Customer_ID: 15738501, Status: ['Account is closed']\n",
            "Customer_ID: 15714642, Status: ['Account is closed']\n",
            "Customer_ID: 15639077, Status: ['Account is closed']\n",
            "Customer_ID: 15736730, Status: ['Account is closed']\n",
            "Customer_ID: 15570835, Status: ['Account is closed']\n",
            "Customer_ID: 15617482, Status: ['Account is closed']\n",
            "Customer_ID: 15605000, Status: ['Account is closed']\n",
            "Customer_ID: 15672374, Status: ['Account is closed']\n",
            "Customer_ID: 15674541, Status: ['Account is closed']\n",
            "Customer_ID: 15720071, Status: ['Account is closed']\n"
          ]
        }
      ]
    },
    {
      "cell_type": "code",
      "source": [
        "unique, counts = np.unique(y_pred_statements, return_counts=True)\n",
        "for u, c in zip(unique, counts):\n",
        "    print(f\"Value: {u}, Count: {c}\")"
      ],
      "metadata": {
        "colab": {
          "base_uri": "https://localhost:8080/"
        },
        "id": "5xL3brm_K75o",
        "outputId": "178ea607-db29-4b51-e472-a971446e4397"
      },
      "execution_count": 27,
      "outputs": [
        {
          "output_type": "stream",
          "name": "stdout",
          "text": [
            "Value: Account is closed, Count: 286\n",
            "Value: Account is not closed, Count: 1714\n"
          ]
        }
      ]
    },
    {
      "cell_type": "code",
      "source": [
        "import seaborn as sns\n",
        "import matplotlib.pyplot as plt\n",
        "plt.figure(figsize=(8, 6))\n",
        "sns.heatmap(cm, annot=True, fmt='g', cmap='Blues', cbar=False)\n",
        "plt.xlabel('Predicted labels')\n",
        "plt.ylabel('True labels')\n",
        "plt.title('Confusion Matrix')\n",
        "plt.show()"
      ],
      "metadata": {
        "colab": {
          "base_uri": "https://localhost:8080/",
          "height": 564
        },
        "id": "R7nb1aPvL5Fl",
        "outputId": "c9b6a4b0-d6d8-4297-c1bc-2cdfe1235876"
      },
      "execution_count": 28,
      "outputs": [
        {
          "output_type": "display_data",
          "data": {
            "text/plain": [
              "<Figure size 800x600 with 1 Axes>"
            ],
            "image/png": "[encoded data removed]"
          },
          "metadata": {}
        }
      ]
    },
    {
      "cell_type": "code",
      "source": [
        "loss, accuracy = classifier.evaluate(X_test, y_test)\n",
        "print(f\"Accuracy on test set: {accuracy * 100:.2f}%\")"
      ],
      "metadata": {
        "colab": {
          "base_uri": "https://localhost:8080/"
        },
        "id": "WMkphZDgCe-E",
        "outputId": "f92d3a55-0208-4db8-cc40-547375b3c77a"
      },
      "execution_count": 29,
      "outputs": [
        {
          "output_type": "stream",
          "name": "stdout",
          "text": [
            "63/63 [==============================] - 0s 916us/step - loss: 0.3526 - accuracy: 0.8575\n",
            "Accuracy on test set: 85.75%\n"
          ]
        }
      ]
    },
    {
      "cell_type": "code",
      "source": [],
      "metadata": {
        "id": "N9e9obGRCg3z"
      },
      "execution_count": null,
      "outputs": []
    }
  ]
}